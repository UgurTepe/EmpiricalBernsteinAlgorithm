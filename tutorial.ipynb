{
 "cells": [
  {
   "cell_type": "markdown",
   "metadata": {},
   "source": [
    "# Empirical Bernstein Stopping (EBS) Algorithm"
   ]
  },
  {
   "cell_type": "markdown",
   "metadata": {},
   "source": [
    "The empirical Bernstein stopping (EBS) algorithm is a stopping algorithm which determines when to stop a sampling process.\n",
    "EBS is build on the empirical Bernstein inequality [[1](https://www.cs.toronto.edu/~vmnih/docs/ebstop.pdf)], which is a modification of the Bernstein inequality.\n",
    "\n",
    "The EBS algorithm depends on the following information:\n",
    "- the range $R$ of the random variables --> $\\forall X_i: a_i \\leq X_i \\leq b_i$ hence $R = b - a$,\n",
    "- the empirical variance $\\overline{\\sigma^2}_t=\\frac{1}{t}\\sum^t_{i=1}(X_i-\\overline{X}_t)^2$, with $t$ being the amount of samples taken,\n",
    "\n",
    "of the random variable $X$.\n",
    "\n",
    "This algorithm returns an $(\\epsilon,\\delta)$-estimate which is at most $\\epsilon$ from its actual mean, $1-\\delta$ of the times.\\\n",
    "Furthermore, it the following parameters characterize EBS:\n",
    "- the accuracy $\\epsilon$, which can be absolute or relative,\n",
    "- the confidence $1-\\delta$, which is the probability to return an $(\\epsilon,\\delta)$-estimate.\n",
    "\n",
    "In addition to various modifications to EBS, algorithms which are based on the Höffding's inequality are also included.\\\n",
    "This notebook may serve as a demonstration on how to use the provided algorithms."
   ]
  },
  {
   "cell_type": "markdown",
   "metadata": {},
   "source": [
    "## Example"
   ]
  },
  {
   "cell_type": "code",
   "execution_count": 3,
   "metadata": {},
   "outputs": [],
   "source": [
    "import sys\n",
    "import numpy as np\n",
    "import matplotlib.pyplot as plt\n",
    "\n",
    "# Importing the algorithms\n",
    "sys.path.append(\"./\")\n",
    "import src.algorithms as alg"
   ]
  },
  {
   "cell_type": "markdown",
   "metadata": {},
   "source": [
    "Define some variables for the random variable/ distribution and EBS.\\\n",
    "In this example, a uniform distribution is used."
   ]
  },
  {
   "cell_type": "code",
   "execution_count": 4,
   "metadata": {},
   "outputs": [],
   "source": [
    "a = 0\n",
    "b = 1\n",
    "R = b - a \n",
    "delta = 0.1\n",
    "epsilon = 0.01"
   ]
  },
  {
   "cell_type": "markdown",
   "metadata": {},
   "source": [
    "Create an instance of the `eba_geo_marg` ebs class."
   ]
  },
  {
   "cell_type": "code",
   "execution_count": 5,
   "metadata": {},
   "outputs": [],
   "source": [
    "ebs = alg.eba_geo_marg(epsilon=epsilon,delta=delta,range_of_rndvar= R)"
   ]
  },
  {
   "cell_type": "markdown",
   "metadata": {},
   "source": [
    "The loop where the algorithm is actually running."
   ]
  },
  {
   "cell_type": "code",
   "execution_count": 6,
   "metadata": {},
   "outputs": [],
   "source": [
    "while ebs.cond_check():\n",
    "    ebs.add_sample(np.random.uniform(a,b))\n",
    "    if ebs.inner_cond_check():\n",
    "        ebs.update_ct()"
   ]
  },
  {
   "cell_type": "markdown",
   "metadata": {},
   "source": [
    "When terminated, various one can return various information from EBS."
   ]
  },
  {
   "cell_type": "code",
   "execution_count": 8,
   "metadata": {},
   "outputs": [
    {
     "name": "stdout",
     "output_type": "stream",
     "text": [
      "Estimate:  0.501474731190747\n",
      "# Samples: 2254\n"
     ]
    }
   ],
   "source": [
    "print('Estimate: ',ebs.get_estimate())\n",
    "print('# Samples:',ebs.get_step())"
   ]
  },
  {
   "cell_type": "markdown",
   "metadata": {},
   "source": [
    "***"
   ]
  },
  {
   "cell_type": "markdown",
   "metadata": {},
   "source": [
    "The other algorithms behave exactly the same. For more information about the modifications one can take my bachelor [thesis](pdf/Bachelor_Thesis.pdf) or the paper of Mnih et. al. [[1](https://www.cs.toronto.edu/~vmnih/docs/ebstop.pdf)] to hand."
   ]
  },
  {
   "cell_type": "markdown",
   "metadata": {},
   "source": []
  }
 ],
 "metadata": {
  "kernelspec": {
   "display_name": "Python 3 (ipykernel)",
   "language": "python",
   "name": "python3"
  },
  "language_info": {
   "codemirror_mode": {
    "name": "ipython",
    "version": 3
   },
   "file_extension": ".py",
   "mimetype": "text/x-python",
   "name": "python",
   "nbconvert_exporter": "python",
   "pygments_lexer": "ipython3",
   "version": "3.12.0"
  }
 },
 "nbformat": 4,
 "nbformat_minor": 4
}
