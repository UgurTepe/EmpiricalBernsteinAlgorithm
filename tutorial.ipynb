{
 "cells": [
  {
   "cell_type": "markdown",
   "metadata": {},
   "source": [
    "# Empirical Bernstein Stopping (EBS) Algorithm"
   ]
  },
  {
   "cell_type": "markdown",
   "metadata": {},
   "source": [
    "The empirical Bernstein stopping (EBS) algorithm is a stopping algorithm which determines when to stop a sampling process.\n",
    "EBS is build on the empirical Bernstein inequality [[1](https://www.cs.toronto.edu/~vmnih/docs/ebstop.pdf)], which is a modification of the Bernstein inequality.\n",
    "\n",
    "The EBS algorithm depends on the following information:\n",
    "- the range $R$ of the random variables --> $\\forall X_i: a_i \\leq X_i \\leq b_i$ hence $R = b - a$,\n",
    "- the empirical variance $\\overline{\\sigma^2}_t=\\frac{1}{t}\\sum^t_{i=1}(X_i-\\overline{X}_t)^2$, with $t$ being the amount of samples taken,\n",
    "\n",
    "of the random variable $X$.\n",
    "\n",
    "This algorithm returns an $(\\epsilon,\\delta)$-estimate which is at most $\\epsilon$ from its actual mean, $1-\\delta$ of the times.\\\n",
    "Furthermore, it the following parameters characterize EBS:\n",
    "- the accuracy $\\epsilon$, which can be absolute or relative,\n",
    "- the confidence $1-\\delta$, which is the probability to return an $(\\epsilon,\\delta)$-estimate.\n",
    "\n",
    "In addition to various modifications to EBS, algorithms which are based on the Höffding's inequality are also included.\\\n",
    "This notebook may serve as a demonstration on how to use the provided algorithms."
   ]
  },
  {
   "cell_type": "markdown",
   "metadata": {},
   "source": [
    "## Important Functions"
   ]
  },
  {
   "cell_type": "markdown",
   "metadata": {},
   "source": [
    "- `cond_check()`: Checks stopping condition\n",
    "- `add_sample(sample)`: Processes a fresh sample\n",
    "- `get_estimate()`: Returns the (current) estimate\n",
    "- `get_mean()`: Returns an numpy array with the running mean\n",
    "- `get_var()`: Returns an numpy array with the running variance\n",
    "- `get_step()`: Returns the amount of samples taken\n",
    "- `get_ct()`: Returns the bound on whichthe stopping condition is based on\n",
    "\n",
    "While there are more functions in the respective classes, these are the only ones that should be used."
   ]
  },
  {
   "cell_type": "markdown",
   "metadata": {},
   "source": [
    "## Usage"
   ]
  },
  {
   "cell_type": "code",
   "execution_count": null,
   "metadata": {},
   "outputs": [],
   "source": [
    "import sys\n",
    "import numpy as np\n",
    "\n",
    "# Importing the algorithms\n",
    "sys.path.append(\"./\")\n",
    "import src.algorithms as alg"
   ]
  },
  {
   "cell_type": "markdown",
   "metadata": {},
   "source": [
    "Define some variables for the random variable/ distribution and EBS.\\\n",
    "In this example, a uniform distribution is used."
   ]
  },
  {
   "cell_type": "code",
   "execution_count": null,
   "metadata": {},
   "outputs": [],
   "source": [
    "a = 0\n",
    "b = 1\n",
    "R = b - a\n",
    "actual_mean = R/2 \n",
    "delta = 0.1\n",
    "epsilon = 0.01"
   ]
  },
  {
   "cell_type": "markdown",
   "metadata": {},
   "source": [
    "Create an instance of the `eba_geo_marg` ebs class."
   ]
  },
  {
   "cell_type": "code",
   "execution_count": null,
   "metadata": {},
   "outputs": [],
   "source": [
    "ebs = alg.eba_geo_marg(epsilon=epsilon,delta=delta,range_of_rndvar= R)"
   ]
  },
  {
   "cell_type": "code",
   "execution_count": null,
   "metadata": {},
   "outputs": [],
   "source": [
    "np.random.seed(425)"
   ]
  },
  {
   "cell_type": "markdown",
   "metadata": {},
   "source": [
    "The loop where the algorithm is actually running."
   ]
  },
  {
   "cell_type": "code",
   "execution_count": null,
   "metadata": {},
   "outputs": [],
   "source": [
    "while ebs.cond_check():\n",
    "    ebs.add_sample(np.random.uniform(a,b))\n",
    "    ebs.inner_cond_check()"
   ]
  },
  {
   "cell_type": "markdown",
   "metadata": {},
   "source": [
    "The function `ebs.cond_check()` checks if the stopping condition of the respective algorithm is met.\n",
    "While that function returns true, more samples are processed via `ebs.add_sample()`.\n",
    "For the algorithms that utilise geometric sampling the function `ebs.inner_cond_check()` has to be additionaly called as-well.\n",
    "That means for the `eba_geo_marg` and `eba_geo` algorithms."
   ]
  },
  {
   "cell_type": "markdown",
   "metadata": {},
   "source": [
    "When terminated, various one can return various information from EBS."
   ]
  },
  {
   "cell_type": "code",
   "execution_count": null,
   "metadata": {},
   "outputs": [],
   "source": [
    "print('Estimate: ',ebs.get_estimate())\n",
    "print('# Samples:',ebs.get_step())"
   ]
  },
  {
   "cell_type": "markdown",
   "metadata": {},
   "source": [
    "## Visualising"
   ]
  },
  {
   "cell_type": "code",
   "execution_count": null,
   "metadata": {},
   "outputs": [],
   "source": [
    "import matplotlib.pyplot as plt"
   ]
  },
  {
   "cell_type": "code",
   "execution_count": null,
   "metadata": {},
   "outputs": [],
   "source": [
    "x_values = np.arange(0,ebs.get_step())\n",
    "y_values = ebs.get_mean()"
   ]
  },
  {
   "cell_type": "markdown",
   "metadata": {},
   "source": [
    "Amount of samples given by Höffding's bound, $t_\\text{min}$"
   ]
  },
  {
   "cell_type": "code",
   "execution_count": null,
   "metadata": {},
   "outputs": [],
   "source": [
    "tmin = alg.hoeffding_bound(delta,epsilon,R)"
   ]
  },
  {
   "cell_type": "markdown",
   "metadata": {},
   "source": [
    "Below the running mean is plotted.\n",
    "Additionally, a $\\pm \\epsilon$ regime around the actual mean $\\mu = 0.5$ is displayed.\n",
    "\n",
    "The amount of samples EBS required are shown as a red line, while Höffding's bound is blue line."
   ]
  },
  {
   "cell_type": "code",
   "execution_count": null,
   "metadata": {},
   "outputs": [],
   "source": [
    "plt.grid()\n",
    "plt.xlabel('Number of samples')\n",
    "plt.ylabel('Running Mean')\n",
    "plt.semilogx(x_values,y_values,label = 'Running Mean',c = 'black',lw = 2)\n",
    "plt.axvline(ebs.get_step(),linestyle = '--',c = 'crimson',lw = 4,label = r\"EBS Stop\")\n",
    "plt.hlines([actual_mean-epsilon, actual_mean+epsilon], xmin=0, xmax=ebs.get_step(),color = 'orangered',label=r'$\\pm \\epsilon$')\n",
    "plt.hlines(actual_mean,xmin=0,xmax=ebs.get_step(),label = 'Mean',alpha = 0.99,linestyle = '--',color = 'orangered')\n",
    "plt.fill_between([0, ebs.get_step()], y2 = actual_mean-epsilon,y1=actual_mean+epsilon, facecolor='orangered',alpha = 0.4)\n",
    "plt.axvline(tmin,linestyle = '--',c = 'teal',lw = 4,label = r\"Höffding Stop\")\n",
    "plt.legend()"
   ]
  },
  {
   "cell_type": "markdown",
   "metadata": {},
   "source": [
    "## Using EBS in a Practical Applications: Electronic Structure Problem for $\\text{H}_2$"
   ]
  },
  {
   "cell_type": "markdown",
   "metadata": {},
   "source": [
    "Using the ansatz provided in this [paper](pdf/ScalableQuantumSimulationofMolecularEnergies.pdf), i.e.:\n",
    "\n",
    "![title](pdf/h2_circuit.png)"
   ]
  },
  {
   "cell_type": "markdown",
   "metadata": {},
   "source": [
    "The corresponding Hamiltonian is:\n",
    "$$\n",
    "\\hat{\\text{H}}=g_1 1_{2\\times 2}+g_2 Z_0 + g_3  Z_1 + g_4 (Z_0 \\otimes Z_1) + g_5 (Y_0 \\otimes Y_1) + g_6 (X_0 \\otimes X_1)\n",
    "$$\n",
    "with $\\{g_i\\}$ being parameters whose value depends solely on the bond length $d$ (see [thesis](pdf/Bachelor_Thesis.pdf)).\n",
    "\n",
    "For example for $d = 0.75 \\AA$, which is near the dissociation energy of $\\text{H}_2$, a VQE run using EBS for all Energy estimations looks as follows:"
   ]
  },
  {
   "cell_type": "code",
   "execution_count": 2,
   "metadata": {},
   "outputs": [],
   "source": [
    "import sys\n",
    "import numpy as np\n",
    "import matplotlib.pyplot as plt\n",
    "\n",
    "sys.path.append(\"./\")\n",
    "from dep.qm_vqe import *"
   ]
  },
  {
   "cell_type": "code",
   "execution_count": 3,
   "metadata": {},
   "outputs": [
    {
     "data": {
      "image/png": "[encoded data removed]",
      "text/plain": [
       "<Figure size 640x480 with 1 Axes>"
      ]
     },
     "metadata": {},
     "output_type": "display_data"
    }
   ],
   "source": [
    "epsilon = 0.1\n",
    "arr_par1, arr_energy,arr_var, arr_est_energy, arr_est_var, arr_steps, arr_höf,arr_max_flag = vqe_eps(epsilon)\n",
    "arr_energy = np.array(arr_energy)\n",
    "# Default g --> d = 0.75\n",
    "g = [0.2252, 0.3435, -0.4347,0.5716,0.0910, 0.0910]\n",
    "\n",
    "plt.plot(arr_par1, arr_energy,'k-' ,label='Analytical Energy')\n",
    "plt.plot(arr_par1, arr_est_energy,'gx' ,label='Estimated Energy')\n",
    "plt.fill_between(arr_par1, arr_energy-epsilon, arr_energy+epsilon,facecolor = 'red',alpha = 0.4,label = r'$\\pm \\epsilon$')\n",
    "plt.axhline(y=np.linalg.eigvalsh(h2_op(g))[0], color='r',linestyle = '--')\n",
    "\n",
    "plt.xlabel(r'$\\theta$')\n",
    "plt.ylabel(r'Energy (Hartee)')\n",
    "\n",
    "\n",
    "plt.grid()\n",
    "plt.legend()\n",
    "plt.show()\n"
   ]
  },
  {
   "cell_type": "markdown",
   "metadata": {},
   "source": [
    "***"
   ]
  },
  {
   "cell_type": "markdown",
   "metadata": {},
   "source": [
    "The other algorithms behave exactly the same. For more information about the modifications one can take my bachelor [thesis](pdf/Bachelor_Thesis.pdf) or the paper of Mnih et. al. [[1](https://www.cs.toronto.edu/~vmnih/docs/ebstop.pdf)] to hand."
   ]
  },
  {
   "cell_type": "markdown",
   "metadata": {},
   "source": []
  },
  {
   "cell_type": "markdown",
   "metadata": {},
   "source": []
  }
 ],
 "metadata": {
  "kernelspec": {
   "display_name": "Python 3 (ipykernel)",
   "language": "python",
   "name": "python3"
  },
  "language_info": {
   "codemirror_mode": {
    "name": "ipython",
    "version": 3
   },
   "file_extension": ".py",
   "mimetype": "text/x-python",
   "name": "python",
   "nbconvert_exporter": "python",
   "pygments_lexer": "ipython3",
   "version": "3.12.0"
  }
 },
 "nbformat": 4,
 "nbformat_minor": 4
}
