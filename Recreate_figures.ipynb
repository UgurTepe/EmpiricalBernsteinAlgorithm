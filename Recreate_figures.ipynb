{
 "cells": [
  {
   "cell_type": "code",
   "execution_count": null,
   "id": "eb14df61-8d8e-461d-9c70-3f9a2d3038a0",
   "metadata": {},
   "outputs": [],
   "source": [
    "import sys\n",
    "import numpy as np\n",
    "import matplotlib.pyplot as plt\n",
    "from glob import glob\n",
    "import json\n",
    "from src.algorithms import hoeffding_bound"
   ]
  },
  {
   "cell_type": "code",
   "execution_count": null,
   "id": "eeec3c53-222d-423f-9e0d-0abe402cdaa4",
   "metadata": {},
   "outputs": [],
   "source": [
    "CHEMICAL_ACCURACY = 1.6e-3\n",
    "delta = 0.1"
   ]
  },
  {
   "cell_type": "markdown",
   "id": "53db7fd8-69b3-4e6a-ae07-7bbda01391d8",
   "metadata": {},
   "source": [
    "TODO: exemplify EBS by running it on one parameter choice $D$\n",
    "==="
   ]
  },
  {
   "cell_type": "code",
   "execution_count": null,
   "id": "8a7e6f0b-bb7d-41c3-a50e-503a81914090",
   "metadata": {},
   "outputs": [],
   "source": [
    "# load params\n",
    "params = np.loadtxt(\"h2_hamiltonians/h2_parameter.csv\",skiprows=1,delimiter=\",\").T\n",
    "R, offsets, params = params[0], params[1], params[2:].T\n",
    "eps_bern = CHEMICAL_ACCURACY"
   ]
  },
  {
   "cell_type": "code",
   "execution_count": null,
   "id": "bed50b64-fb5a-4c47-81ce-3c976afea175",
   "metadata": {},
   "outputs": [],
   "source": []
  },
  {
   "cell_type": "code",
   "execution_count": null,
   "id": "279b8fd9-fb03-4294-8b02-52ea0de817ac",
   "metadata": {},
   "outputs": [],
   "source": []
  },
  {
   "cell_type": "code",
   "execution_count": null,
   "id": "1e174c95-a390-4580-b229-4a90378e9a29",
   "metadata": {},
   "outputs": [],
   "source": []
  },
  {
   "cell_type": "markdown",
   "id": "9568d9f2-c1c2-410e-8c03-cf2a1ae6221e",
   "metadata": {},
   "source": [
    "Obtaining energy samples for arbitrary Hamiltonians\n",
    "---\n",
    "\n",
    "The high-level function `get_estimator` implements algorithm 1 and is then called by algorithm 3"
   ]
  },
  {
   "cell_type": "code",
   "execution_count": null,
   "id": "e088388a-536f-465e-98be-71a3f05246a1",
   "metadata": {},
   "outputs": [],
   "source": [
    "from dep.shadow_grouping import get_estimator"
   ]
  },
  {
   "cell_type": "code",
   "execution_count": null,
   "id": "c8796b61-2644-44d6-b8f0-97ded4cd497c",
   "metadata": {},
   "outputs": [],
   "source": [
    "from dep.shadow_grouping import get_pauli_list, Hamiltonian, char_to_int\n",
    "from dep.molecules import H2"
   ]
  },
  {
   "cell_type": "code",
   "execution_count": null,
   "id": "c9b577ab-1a9b-411d-a836-3215d6e04f3f",
   "metadata": {},
   "outputs": [],
   "source": [
    "decomposition = get_pauli_list(H2)\n",
    "offset = decomposition[0,1]\n",
    "obs_str = decomposition[1:,0]\n",
    "obs = np.array([[char_to_int[o] for o in obs] for obs in obs_str])\n",
    "weights = decomposition[1:,1].astype(float)"
   ]
  },
  {
   "cell_type": "code",
   "execution_count": null,
   "id": "68e7af71-d854-40ec-bfc6-3e7aa1b5abaa",
   "metadata": {},
   "outputs": [],
   "source": [
    "# calculate groundstate and its energy\n",
    "H = Hamiltonian(weights,obs_str)\n",
    "ham = H.SummedOp().to_matrix()\n",
    "E_numerics, groundstate = H.ground(sparse=False)\n",
    "groundstate = groundstate.real"
   ]
  },
  {
   "cell_type": "code",
   "execution_count": null,
   "id": "a577b36f-a547-4784-8a87-0f76ac602da4",
   "metadata": {},
   "outputs": [],
   "source": [
    "estimator = get_estimator(weights,obs.copy(),offset,groundstate)\n",
    "samples = estimator.get_samples(1000)\n",
    "samples.shape, samples.mean(), E_numerics + offset"
   ]
  },
  {
   "cell_type": "markdown",
   "id": "f158c5db-e700-42f6-bb44-98af9ad7c613",
   "metadata": {},
   "source": [
    "This way, samples for the state's energy can be readily prepared.\n",
    "We follow this procedure for all energy sample calculations, but only provide the processed data in the following.\n",
    "Creating these data naturally is the most resource intensive step of our numerical results."
   ]
  },
  {
   "cell_type": "markdown",
   "id": "a499f866-ea81-4088-9a37-7cdd7c72582c",
   "metadata": {},
   "source": [
    "Recreate figure 1\n",
    "==="
   ]
  },
  {
   "cell_type": "code",
   "execution_count": null,
   "id": "8cb3bfc4-2050-4f87-b01d-746e66df25bc",
   "metadata": {},
   "outputs": [],
   "source": [
    "folder = \"data/H2_data/\"\n",
    "\n",
    "E_GS     = np.zeros_like(R)\n",
    "E_est    = np.zeros_like(R)\n",
    "abs_diff = np.zeros_like(R)\n",
    "abs_var  = np.zeros_like(R)\n",
    "N_EBS    = np.zeros_like(R)\n",
    "N_EBSvar = np.zeros_like(R)\n",
    "N_Hoeff  = np.zeros_like(R)\n",
    "\n",
    "for i,dist in enumerate(R):\n",
    "    file = \"{}{}/groundstate_epsilon_0.0016.txt\".format(folder,dist)\n",
    "    energy, samplesEBS, samplesHoeff, estimate, estim_var = np.loadtxt(file,skiprows=1,unpack=True)\n",
    "    E_GS[i]     = energy[0]\n",
    "    E_est[i]    = np.mean(estimate)\n",
    "    abs_diff[i] = np.abs(estimate-energy).mean()\n",
    "    abs_var[i]  = np.abs(estimate-energy).std()\n",
    "    N_EBS[i]    = np.mean(samplesEBS)\n",
    "    N_EBSvar[i] = np.std(samplesEBS)\n",
    "    N_Hoeff[i]  = samplesHoeff[0]"
   ]
  },
  {
   "cell_type": "markdown",
   "id": "3ba371df-0c85-4103-a4db-833a59924fda",
   "metadata": {},
   "source": [
    "Figure 1a\n",
    "---"
   ]
  },
  {
   "cell_type": "code",
   "execution_count": null,
   "id": "8620f993-7757-41b8-ad48-68b4bdf3a9fc",
   "metadata": {},
   "outputs": [],
   "source": [
    "eps = eps_bern\n",
    "#E_GS = np.loadtxt(\"E_GS.txt\")\n",
    "\n",
    "# energy curve\n",
    "ax = plt.subplot(111)\n",
    "plt.plot(R,E_GS,'k-')\n",
    "plt.plot(R,E_est,'x',c = 'yellowgreen')\n",
    "plt.ylabel(r\"Energy $E(D)$ [Ha]\",fontsize=\"x-large\")\n",
    "plt.xlabel(r'Interatomic distance $D\\ [\\AA]$',fontsize=\"x-large\")\n",
    "plt.yticks(fontsize=\"large\")\n",
    "plt.xticks(fontsize=\"large\")\n",
    "#plt.tick_params(\"x\",labelbottom=False, length=0)\n",
    "axins = ax.inset_axes(\n",
    "    [0.25, 0.4, 0.7, 0.5],xlim=plt.xlim(), ylim=(0, eps/2), yticklabels=[\"0\",r\"$\\frac{\\epsilon}{4}$\",r\"$\\frac{\\epsilon}{2}$\"],\n",
    "    facecolor=\"white\", yticks = [0,eps/4,eps/2]\n",
    ")\n",
    "axins.plot(R,abs_diff,\"x\", c=\"yellowgreen\")\n",
    "#axins.fill_between([0,3],eps,color=\"grey\",alpha=0.2)\n",
    "axins.text(1.5,0.375*eps,r\"$|\\hat E - E |$\",ha=\"center\",weight=\"bold\",fontsize=\"xx-large\")\n",
    "axins.grid()\n",
    "plt.grid()\n",
    "\n",
    "plt.show()"
   ]
  },
  {
   "cell_type": "markdown",
   "id": "0b3352ec-7210-425a-8832-c0894d6cec35",
   "metadata": {},
   "source": [
    "Figure 1b\n",
    "---"
   ]
  },
  {
   "cell_type": "code",
   "execution_count": null,
   "id": "32c551b2-40f4-40e9-b271-f4bb44c1a50a",
   "metadata": {},
   "outputs": [],
   "source": [
    "ax = plt.subplot(111)\n",
    "plt.semilogy()\n",
    "\n",
    "plt.plot(R,N_Hoeff,\"ro\",label=\"Hoeffding\")\n",
    "plt.plot(R,N_EBS,\"gx\",label=\"EBS\")\n",
    "plt.errorbar(R,N_EBS,yerr=N_EBSvar,fmt=\"none\")\n",
    "plt.ylim(1e5,4e7)\n",
    "plt.xlabel(r'Interatomic distance $D\\ [\\AA]$',fontsize=\"x-large\")\n",
    "plt.ylabel(r'No. of meas. rounds $N(D)$',fontsize=\"x-large\")\n",
    "plt.legend(fontsize=\"x-large\",loc=3)\n",
    "plt.yticks(fontsize=\"large\")\n",
    "plt.xticks(fontsize=\"large\")\n",
    "plt.grid()\n",
    "\n",
    "#inset\n",
    "axins = ax.inset_axes(\n",
    "    [0.4, 0.67, 0.575, 0.3],xlim=plt.xlim(), ylim=(0, 0.4), yticklabels=[\"0\",\"20\",\"40\"],\n",
    "    facecolor=\"white\", yticks = [0,0.2,0.4]\n",
    ")\n",
    "axins.plot(R,N_EBS/N_Hoeff,\"gx\")\n",
    "axins.text(1.5,0.15,r\"$\\frac{N_\\mathrm{EBS}}{N_\\mathrm{Hoeff}}$\",\n",
    "           ha=\"center\",fontsize=\"xx-large\",bbox=dict(facecolor='white', edgecolor=\"white\", alpha=0.7))\n",
    "axins.grid()\n",
    "\n",
    "plt.show()"
   ]
  },
  {
   "cell_type": "markdown",
   "id": "d343e05b-a053-4864-b282-5896730172e6",
   "metadata": {},
   "source": [
    "Recreate Figure 2\n",
    "==="
   ]
  },
  {
   "cell_type": "code",
   "execution_count": null,
   "id": "116c5146-6569-4579-8228-fc4a570051e0",
   "metadata": {},
   "outputs": [],
   "source": [
    "from src.algorithms import EBS\n",
    "from src.algorithms import hoeffding_bound\n",
    "from os import listdir\n",
    "from os.path import isfile\n",
    "from scipy.optimize import curve_fit"
   ]
  },
  {
   "cell_type": "code",
   "execution_count": null,
   "id": "7c4568cc-6932-4e60-8c3b-94dd06a13af8",
   "metadata": {},
   "outputs": [],
   "source": [
    "def load_samples(filename):\n",
    "    params = {}\n",
    "    with open(filename, \"r\") as f:\n",
    "        line = f.readline().strip()\n",
    "        while line.find(\"#\") >= 0:\n",
    "            key, val = line.split(\"=\")\n",
    "            params[key[2:]] = float(val)\n",
    "            line = f.readline().strip()\n",
    "    samples = np.loadtxt(filename, skiprows=len(params.keys()))\n",
    "    return samples, params\n",
    "\n",
    "def fit_func(N,A,c):\n",
    "    return A/N**c"
   ]
  },
  {
   "cell_type": "markdown",
   "id": "00ab411b-88b7-47ab-b52d-f22377f08a4b",
   "metadata": {},
   "source": [
    "$\\displaystyle \\epsilon(N) = \\frac{A}{N^c} $"
   ]
  },
  {
   "cell_type": "markdown",
   "id": "0ae4675f-7b21-4968-a0e7-da9883b69283",
   "metadata": {},
   "source": [
    "Figure 2a\n",
    "---"
   ]
  },
  {
   "cell_type": "code",
   "execution_count": null,
   "id": "c7aa8af0-c0e5-4b90-b810-0cb15d71e94f",
   "metadata": {},
   "outputs": [],
   "source": [
    "from src.algorithms import EBS_UnModded"
   ]
  },
  {
   "cell_type": "code",
   "execution_count": null,
   "id": "31310965-dd51-4465-807d-a8eecac13c89",
   "metadata": {},
   "outputs": [],
   "source": [
    "folder = \"data/samples_for_EBS/\""
   ]
  },
  {
   "cell_type": "code",
   "execution_count": null,
   "id": "55f69951-dd9f-48af-af57-88bf020303b5",
   "metadata": {},
   "outputs": [],
   "source": [
    "samples, params = load_samples(folder + \"{}_molecule_{}_old_samples_0.txt\".format(\"BeH2\", \"JW\"))\n",
    "R = params[\"R\"]\n",
    "actual_mean = params[\"mean\"]\n",
    "Ngroups  = params[\"Ngroups\"]"
   ]
  },
  {
   "cell_type": "code",
   "execution_count": null,
   "id": "ec0609aa-4b1a-4064-b157-3ea3ff2f83a1",
   "metadata": {},
   "outputs": [],
   "source": [
    "Ngroups"
   ]
  },
  {
   "cell_type": "code",
   "execution_count": null,
   "id": "74217be0-357e-466f-aec6-48741c2e5e6e",
   "metadata": {},
   "outputs": [],
   "source": [
    "samples2, _ = load_samples(folder + \"{}_molecule_{}_old_samples_9.txt\".format(\"BeH2\", \"JW\"))\n",
    "samples = np.append(samples,samples2)"
   ]
  },
  {
   "cell_type": "code",
   "execution_count": null,
   "id": "a9c3d89e-a366-47e3-8e2f-e396a710514c",
   "metadata": {},
   "outputs": [],
   "source": [
    "eps_vals = np.logspace(-3.5,-1,8)\n",
    "N_hoeff = np.zeros(len(eps_vals),dtype=int)\n",
    "N_EBS   = np.zeros_like(N_hoeff)\n",
    "N_plot = np.logspace(4,11,100)"
   ]
  },
  {
   "cell_type": "code",
   "execution_count": null,
   "id": "2526307c-5381-4c08-8778-627cc7e99c4a",
   "metadata": {},
   "outputs": [],
   "source": [
    "for index,eps in enumerate(eps_vals):\n",
    "    print(\"Going for eps\\t=\",eps)\n",
    "    np.random.shuffle(samples)\n",
    "    N_hoeff[index] = hoeffding_bound(delta, eps, R)\n",
    "\n",
    "    ebs = EBS(epsilon=eps, delta=delta, range_of_rndvar=R, num_groups=Ngroups, N_min=1)\n",
    "\n",
    "    ind = 0\n",
    "    while ebs.cond_check():# and ebs.get_numsamples()*Ngroups < N_hoeff[index]:\n",
    "        ebs.add_sample(samples[ind])\n",
    "        ind += 1\n",
    "        if ind == len(samples):\n",
    "            print(\"Warning: had to reshuffle data!\")\n",
    "            ind = 0\n",
    "            np.random.shuffle(samples)\n",
    "    N_EBS[index] = ebs.get_numsamples()*Ngroups"
   ]
  },
  {
   "cell_type": "code",
   "execution_count": null,
   "id": "c012933b-4a18-4b8b-9342-e28c40a4af6c",
   "metadata": {},
   "outputs": [],
   "source": [
    "popt_hoeff, pcov_hoeff = curve_fit(fit_func,N_hoeff,eps_vals,p0=[100,0.5],bounds=((0,0),(np.inf,2)))\n",
    "print(\"c_Hoeff = {:.2f} +/- {:.2f}\".format(popt_hoeff[-1],np.sqrt(pcov_hoeff[-1,-1])))\n",
    "popt_ebs, pcov_ebs     = curve_fit(fit_func,N_EBS,eps_vals,p0=[100,0.5],bounds=((0,0),(np.inf,2)))\n",
    "print(\"c_EBS = {:.2f} +/- {:.2f}\".format(popt_ebs[-1],np.sqrt(pcov_ebs[-1,-1])))"
   ]
  },
  {
   "cell_type": "code",
   "execution_count": null,
   "id": "2d420058-c408-4211-9bee-f011ec51d1c1",
   "metadata": {},
   "outputs": [],
   "source": [
    "plt.loglog(N_EBS,eps_vals,\"ro\",label=\"EBS\\n$c={:.2f} \\pm {:.2f}$\".format(popt_ebs[-1],np.sqrt(pcov_ebs[-1,-1])))\n",
    "plt.plot(N_plot,fit_func(N_plot,*popt_ebs),\"r--\")\n",
    "plt.loglog(N_hoeff,eps_vals,\"gx\",label=\"Hoeffding\\n$c=0.5$\")\n",
    "plt.plot(N_plot,fit_func(N_plot,*popt_hoeff),\"g-\")\n",
    "#plt.plot(N_plot,STD*np.sqrt(2*np.log(20)/N_plot*Ngroups)+2*R*np.log(20)/3/N_plot*Ngroups,\"k--\",label=\"Bernstein\")\n",
    "plt.legend(fontsize=\"x-large\")\n",
    "plt.text(1e6,8e-3,r\"$\\epsilon(N) = \\frac{A}{N^c} $\",\n",
    "               ha=\"center\",fontsize=\"xx-large\",bbox=dict(facecolor='white', edgecolor=\"white\", alpha=0.7))\n",
    "plt.fill_between(plt.xlim(),CHEMICAL_ACCURACY,color=\"grey\",alpha=0.2)\n",
    "plt.ylabel(r\"Accurancy $\\epsilon$ [Ha]\",fontsize=\"x-large\")\n",
    "plt.xlabel(r'Total no. meas. rounds $N$',fontsize=\"x-large\")\n",
    "plt.yticks(fontsize=\"large\")\n",
    "plt.xticks(fontsize=\"large\")\n",
    "#plt.ylim(1e-4,2e-1)\n",
    "#plt.xlim(1e5,1e11)\n",
    "plt.grid()\n",
    "\n",
    "plt.show()"
   ]
  },
  {
   "cell_type": "markdown",
   "id": "7c70788f-d116-4c85-92f3-c832a886ee5a",
   "metadata": {},
   "source": [
    "¶Figure 2b\n",
    "---"
   ]
  },
  {
   "cell_type": "markdown",
   "id": "db6c305b-d746-47a9-993e-c1ff4e054e33",
   "metadata": {},
   "source": [
    "We will use preprocessed data, but the data generation procedure from samples is depicted below as well."
   ]
  },
  {
   "cell_type": "code",
   "execution_count": null,
   "id": "abccdbac-1b22-4788-9239-6967d550091b",
   "metadata": {},
   "outputs": [],
   "source": [
    "available_molecules = [\"H2\", \"H2_6-31g\", \"LiH\", \"BeH2\", \"H2O\", \"NH3\"]\n",
    "mappings = [\"JW\", \"BK\", \"Parity\"]\n",
    "epsilon = CHEMICAL_ACCURACY\n",
    "beta = 1.1"
   ]
  },
  {
   "cell_type": "code",
   "execution_count": null,
   "id": "6abfa4e5-1719-453d-a700-80532378c436",
   "metadata": {},
   "outputs": [],
   "source": [
    "savefile = 'data/bar_plot_data.txt'"
   ]
  },
  {
   "cell_type": "code",
   "execution_count": null,
   "id": "e136358d-0163-4e8d-b8a3-8b5c59e55152",
   "metadata": {},
   "outputs": [],
   "source": [
    "estimates = np.zeros(len(mappings)*len(available_molecules))\n",
    "targets   = np.zeros_like(estimates)\n",
    "\n",
    "if isfile(savefile):\n",
    "    data = np.loadtxt(savefile, delimiter=',')\n",
    "    arr_jw, arr_bk, arr_par, arr_höf = data\n",
    "else:\n",
    "    arr_jw = []\n",
    "    arr_bk = []\n",
    "    arr_par = []\n",
    "    arr_höf = []\n",
    "\n",
    "    for ind,mol in enumerate(available_molecules):\n",
    "        samples_jw, params_jw = load_samples(\n",
    "            folder + \"{}_molecule_{}_samples_long.txt\".format(mol, \"JW\"))\n",
    "        samples_bk, params_bk = load_samples(\n",
    "            folder + \"{}_molecule_{}_samples_long.txt\".format(mol, \"BK\"))\n",
    "        samples_par, params_par = load_samples(\n",
    "            folder + \"{}_molecule_{}_samples_long.txt\".format(mol, \"Parity\"))\n",
    "\n",
    "        np.random.shuffle(samples_jw)\n",
    "        np.random.shuffle(samples_bk)\n",
    "        np.random.shuffle(samples_par)\n",
    "\n",
    "        R_jw = params_jw[\"R\"]\n",
    "        R_bk = params_bk[\"R\"]\n",
    "        R_par = params_par[\"R\"]\n",
    "\n",
    "        actual_mean = params_jw[\"mean\"]\n",
    "        actual_mean = params_bk[\"mean\"]\n",
    "        actual_mean = params_par[\"mean\"]\n",
    "        \n",
    "        targets[len(mappings)*ind:len(mappings)*(ind+1)] = actual_mean\n",
    "\n",
    "        Ngroups_jw  = params_jw[\"Ngroups\"]\n",
    "        Ngroups_bk  = params_bk[\"Ngroups\"]\n",
    "        Ngroups_par = params_par[\"Ngroups\"]\n",
    "\n",
    "        tmin = hoeffding_bound(delta, epsilon, R_jw)\n",
    "        arr_höf.append(tmin)\n",
    "\n",
    "        ebs_jw  = EBS(epsilon=epsilon, delta=delta, range_of_rndvar=R_jw,\n",
    "                      num_groups=Ngroups_jw, beta=beta, N_min=tmin//100//Ngroups_jw)\n",
    "        ebs_bk  = EBS(epsilon=epsilon, delta=delta, range_of_rndvar=R_bk,\n",
    "                      num_groups=Ngroups_bk, beta=beta, N_min=tmin//100//Ngroups_bk)\n",
    "        ebs_par = EBS(epsilon=epsilon, delta=delta, range_of_rndvar=R_par,\n",
    "                      num_groups=Ngroups_par, beta=beta, N_min=tmin//100//Ngroups_par)\n",
    "\n",
    "        # JW\n",
    "        ind_jw = 0\n",
    "        while ebs_jw.cond_check():\n",
    "            ebs_jw.add_sample(samples_jw[ind_jw])\n",
    "            ind_jw += 1\n",
    "            if ind_jw == len(samples_jw):\n",
    "                print(\"Warning for {}-molecule (JW): had to reshuffle data!\".format(mol))\n",
    "                ind_jw = 0\n",
    "                np.random.shuffle(samples_jw)\n",
    "        arr_jw.append(ebs_jw.get_step()*Ngroups_jw)\n",
    "        print(\"{}-molecule (JW): required 10^{:.1f} samples (10^{:.1f} max.)\".format(\n",
    "            mol,np.log10(arr_jw[-1]),np.log10(arr_höf[-1])\n",
    "        ))\n",
    "        estimates[len(mappings)*ind] = ebs_jw.get_estimate()\n",
    "\n",
    "        # BK\n",
    "        ind_bk = 0\n",
    "        while ebs_bk.cond_check():\n",
    "            ebs_bk.add_sample(samples_bk[ind_bk])\n",
    "            ind_bk += 1\n",
    "            if ind_bk == len(samples_bk):\n",
    "                print(\"Warning for {}-molecule (BK): had to reshuffle data!\".format(mol))\n",
    "                ind_bk = 0\n",
    "                np.random.shuffle(samples_bk)\n",
    "        arr_bk.append(ebs_bk.get_step()*Ngroups_bk)\n",
    "        print(\"{}-molecule (BK): required 10^{:.1f} samples (10^{:.1f} max.)\".format(\n",
    "            mol,np.log10(arr_bk[-1]),np.log10(arr_höf[-1])\n",
    "        ))\n",
    "        estimates[len(mappings)*ind+1] = ebs_bk.get_estimate()\n",
    "\n",
    "        # Parity\n",
    "        ind_par = 0\n",
    "        while ebs_par.cond_check():\n",
    "            ebs_par.add_sample(samples_par[ind_par])\n",
    "            ind_par += 1\n",
    "            if ind_par == len(samples_par):\n",
    "                print(\"Warning for {}-molecule (Parity): had to reshuffle data!\".format(mol))\n",
    "                ind_par = 0\n",
    "                np.random.shuffle(samples_par)\n",
    "        arr_par.append(ebs_par.get_step()*Ngroups_par)\n",
    "        print(\"{}-molecule (Parity): required 10^{:.1f} samples (10^{:.1f} max.)\".format(\n",
    "            mol,np.log10(arr_par[-1]),np.log10(arr_höf[-1])\n",
    "        ))\n",
    "        estimates[len(mappings)*ind+2] = ebs_par.get_estimate()\n",
    "        \n",
    "\n",
    "    np.savetxt(savefile, (arr_jw,arr_bk,arr_par,arr_höf), delimiter=',')"
   ]
  },
  {
   "cell_type": "code",
   "execution_count": null,
   "id": "a6287b90-ba8f-4df1-a3ed-70facb114fcb",
   "metadata": {},
   "outputs": [],
   "source": [
    "width = 0.2\n",
    "align = \"center\" # or edge\n",
    "color_JW = \"#ffa600\"\n",
    "color_BK = \"#ff6361\"\n",
    "color_Pa = \"#bc5090\"\n",
    "color_Ho = \"#003f5c\"\n",
    "\n",
    "br1 = np.arange(len(arr_bk)) - 1.5*width\n",
    "br2 = br1 + width\n",
    "br3 = br2 + width\n",
    "br4 = br3 + width"
   ]
  },
  {
   "cell_type": "code",
   "execution_count": null,
   "id": "f8d1630e-7745-4daa-9d85-fef48f8c9969",
   "metadata": {},
   "outputs": [],
   "source": [
    "plt.bar(br1, np.asarray(arr_bk), color = color_JW, width = width,\n",
    "        edgecolor ='grey', label ='Jordan-Wigner', zorder=3, align=align)\n",
    "\n",
    "plt.bar(br2, np.asarray(arr_jw), color = color_BK, width = width,\n",
    "        edgecolor ='grey', label ='Bravyi-Kitaev', zorder=3, align=align)\n",
    "\n",
    "plt.bar(br3, np.asarray(arr_par), color = color_Pa, width = width,\n",
    "        edgecolor ='grey', label ='Parity', zorder=3, align=align)\n",
    "\n",
    "plt.bar(br4, np.asarray(arr_höf), color = color_Ho, width = width,\n",
    "        edgecolor ='grey', label ='Hoeffding', zorder=3, align=align)\n",
    "\n",
    "plt.yscale('log')\n",
    "#plt.xlabel('Molecule', fontsize = \"xx-large\")\n",
    "plt.ylabel('Number of Samples', fontsize = \"xx-large\")\n",
    "plt.xticks(np.arange(len(arr_jw)),\n",
    "        available_molecules,fontsize=\"x-large\")\n",
    "plt.yticks(fontsize=\"x-large\")\n",
    "plt.legend(fontsize=\"large\")\n",
    "plt.grid(axis=\"y\",zorder=1)\n",
    "\n",
    "plt.show()"
   ]
  },
  {
   "cell_type": "markdown",
   "id": "2a1e567f-24b3-4c14-9462-20151a444ed4",
   "metadata": {},
   "source": [
    "Recreate Figure 3 & 4\n",
    "==="
   ]
  },
  {
   "cell_type": "markdown",
   "id": "e371ad31-eb5a-4597-a6df-450469553088",
   "metadata": {},
   "source": [
    "Imaginary time evolution, given a Hamiltonian $H$ and parameter $\\beta$, evolves a quantum state $\\vert \\psi \\rangle$ according to\n",
    "$$\\vert \\psi \\rangle \\mapsto \\vert \\psi' \\rangle = e^{-\\beta H} \\vert \\psi \\rangle \\mapsto \\frac{ \\vert \\psi' \\rangle }{ \\Vert \\vert \\psi' \\rangle \\Vert }$$\n",
    "Repeating these two steps over and over yields the lowest excited state of $H$ that has non-zero overlap with the initial $\\vert \\psi \\rangle$:\n",
    "$$\\lim_{\\beta \\to \\infty} e^{-\\beta H} \\vert \\psi \\rangle = \\vert E_{i^\\ast} \\rangle\\,,\\qquad \\text{where} \\qquad i^\\ast = \\min \\{ i \\mid \\langle \\psi \\vert E_i \\rangle \\neq 0\\}\\,.$$\n",
    "\n",
    "\n",
    "and we end up with the lowest excited state of $H$ that shares non-zero overlap with the initial $\\vert \\psi \\rangle$ up to a global phase."
   ]
  },
  {
   "cell_type": "code",
   "execution_count": null,
   "id": "aa929420-0144-4f27-b788-2ce4358f886c",
   "metadata": {},
   "outputs": [],
   "source": [
    "from dep.shadow_grouping import get_pauli_list, Hamiltonian\n",
    "from dep.molecules import H4\n",
    "from numpy.linalg import eigh\n",
    "from dep.imaginary_time_evolution import ImaginaryTimeEvolution\n",
    "from dep.shadow_grouping import JordanWignerMapper, BravyiKitaevMapper, ParityMapper"
   ]
  },
  {
   "cell_type": "code",
   "execution_count": null,
   "id": "882c5baf-4495-4aa4-8233-31b857d778a5",
   "metadata": {},
   "outputs": [],
   "source": [
    "betas = np.logspace(0,3,20)\n",
    "energies = np.zeros_like(betas)\n",
    "fidelites = np.zeros_like(betas)\n",
    "\n",
    "decomposition = get_pauli_list(H4,JordanWignerMapper)\n",
    "\n",
    "offset = decomposition[0,1]\n",
    "obs = decomposition[1:,0]\n",
    "weights = decomposition[1:,1].astype(float)"
   ]
  },
  {
   "cell_type": "code",
   "execution_count": null,
   "id": "4ea292f7-4931-475d-8e05-a5447e15103a",
   "metadata": {},
   "outputs": [],
   "source": [
    "# calculate groundstate and its energy\n",
    "H = Hamiltonian(weights,obs)\n",
    "ham = H.SummedOp().to_matrix()\n",
    "#E_numerics, groundstate = H.ground(sparse=False)\n",
    "#groundstate = groundstate.real\n",
    "\n",
    "vals, states =  eigh(ham)\n",
    "states = states.real # the eigenstates are real-valued because the Hamiltonian is as well\n",
    "E_numerics = vals[0]\n",
    "groundstate = states[:,0]"
   ]
  },
  {
   "cell_type": "code",
   "execution_count": null,
   "id": "03101466-884c-412d-8efe-a5214dcca7e7",
   "metadata": {},
   "outputs": [],
   "source": [
    "beta = 10\n",
    "timeevo = ImaginaryTimeEvolution(weights,obs,beta)\n",
    "\n",
    "timeevo.reset()\n",
    "for i,beta in enumerate(betas):\n",
    "    timeevo.reset()\n",
    "    if i==0:\n",
    "        print(\"Initial energy of\",timeevo.energy)\n",
    "    timeevo.set_beta(beta)\n",
    "    timeevo.step()\n",
    "    energies[i] = timeevo.energy\n",
    "    fidelites[i] = timeevo.fidelity_with_groundstate\n",
    "    print(\"beta\",beta,\"energy\",timeevo.energy)"
   ]
  },
  {
   "cell_type": "markdown",
   "id": "a75a01a7-1256-476e-a03a-0906e16ac910",
   "metadata": {},
   "source": [
    "Figure 3\n",
    "---"
   ]
  },
  {
   "cell_type": "code",
   "execution_count": null,
   "id": "b974051b-70a9-4be7-adcb-895625f78894",
   "metadata": {},
   "outputs": [],
   "source": [
    "plt.loglog(betas,np.abs(energies-E_numerics),\"k-\",label=r\"$E(\\beta)-E_{GS}$ [Ha]\")\n",
    "plt.loglog(betas,1-fidelites,color=\"gray\",linestyle=\"dashed\",label=\"Infidelity $1-F(\\\\beta)$\")\n",
    "plt.legend(fontsize=\"xx-large\")\n",
    "plt.xlim(1,1000)\n",
    "plt.ylim(1e-10,2)\n",
    "plt.yticks(fontsize=\"x-large\")\n",
    "plt.ylabel(\"Proximity measure\",fontsize=\"xx-large\")\n",
    "plt.xticks(fontsize=\"x-large\")\n",
    "plt.xlabel(\"Inverse temperature $\\\\beta$\",fontsize=\"xx-large\")\n",
    "plt.grid()\n",
    "\n",
    "plt.text(2,3e-4,r\"$\\vert \\beta \\rangle \\propto e^{-\\beta H} \\vert + \\rangle^{\\otimes n}$\",fontsize=20)\n",
    "\n",
    "plt.show()"
   ]
  },
  {
   "cell_type": "markdown",
   "id": "60e13646-9de3-4082-87c1-bd4bfd77b12e",
   "metadata": {},
   "source": [
    "Figure 4\n",
    "---"
   ]
  },
  {
   "cell_type": "code",
   "execution_count": null,
   "id": "74c4c349-d887-476f-a8c5-490fc44bca8b",
   "metadata": {},
   "outputs": [],
   "source": [
    "def json_load(filename):\n",
    "    with open(filename,\"r\") as f:\n",
    "        temp = json.load(f)\n",
    "    temp_dict = {}\n",
    "    for key,val in temp.items():\n",
    "        if key==\"-1\":\n",
    "            continue\n",
    "        tup = tuple(temp[\"-1\"][key])\n",
    "        tup, index = tup[:-1], tup[-1]\n",
    "        subdict = temp_dict.get(tup,{})\n",
    "        subdict[index] = val\n",
    "        temp_dict[tup] = subdict\n",
    "\n",
    "    # clean up data further - get the values for epsilon and beta, respectively\n",
    "    epsilons, betas = set(), set()\n",
    "    for key in temp_dict:\n",
    "        epsilons.add(key[2])\n",
    "        betas.add(key[1])\n",
    "    epsilons, betas = np.sort(list(epsilons)), np.sort(list(betas))\n",
    "    \n",
    "    # aggregate data for the same keys as np.array and store these in out-dict\n",
    "    out = {}\n",
    "    for key,val in temp_dict.items():\n",
    "        out[key] = np.array([val[index] for index in range(len(val))])\n",
    "    return out, epsilons, betas"
   ]
  },
  {
   "cell_type": "code",
   "execution_count": null,
   "id": "0a14fb31-eaa3-45fd-a72b-9a27e159ae46",
   "metadata": {},
   "outputs": [],
   "source": [
    "filename = \"data/H4_data.json\"\n",
    "map_name = \"JW\"\n",
    "colors  = (\"red\",\"blue\",\"purple\",\"cyan\")\n",
    "eps_ticks = 1.6*np.logspace(-1,-4,7)[::-1]\n",
    "\n",
    "diction, epsilons, betas = json_load(filename)"
   ]
  },
  {
   "cell_type": "code",
   "execution_count": null,
   "id": "0cae5e67-7c3b-4f59-9c9c-ae1dde9e4ac1",
   "metadata": {},
   "outputs": [],
   "source": [
    "#borders = 1e-5,2e-1\n",
    "\n",
    "plt.figure(figsize=(9,6))\n",
    "ax = plt.subplot(111)\n",
    "plt.semilogx()\n",
    "for beta,color in zip(betas[::3],colors):\n",
    "    Nshots = np.zeros_like(epsilons)\n",
    "    Nhoeff = np.zeros_like(Nshots)\n",
    "    stds = np.zeros_like(Nshots)\n",
    "    for i,eps in enumerate(epsilons):\n",
    "        vals = diction[(map_name,beta,eps)]\n",
    "        Nshots[i] = vals[:,1].mean()\n",
    "        Nhoeff[i] = vals[0,2]\n",
    "    plt.plot(epsilons,Nhoeff/Nshots,color=color,label=\"beta={}\".format(int(beta)))\n",
    "#plt.plot(epsilons,Nhoeff,label=\"Hoeff\")\n",
    "plt.legend(fontsize=\"x-large\",loc=\"lower left\")\n",
    "#plt.plot(borders,borders,\"k--\")\n",
    "#plt.xlim(right=1e-2)\n",
    "#plt.ylim(bottom=1e6)\n",
    "plt.ylabel(r\"$N_{Hoeff}\\ /\\ N_{EBS}$\",fontsize=\"xx-large\")\n",
    "plt.xlabel(\"Normalized accuracy $\\epsilon/\\epsilon_{acc.}^{chem.}$\",fontsize=\"xx-large\")\n",
    "plt.xticks(eps_ticks,[\"0.1\",\"\",\"1\",\"\",\"10\", \"\", \"100\"],fontsize=\"x-large\")\n",
    "plt.yticks(fontsize=\"x-large\")\n",
    "plt.grid()\n",
    "\n",
    "# second x axis on top\n",
    "N0 = Nhoeff[epsilons == 0.0016][0]\n",
    "Nvals = np.logspace(4,10,7)\n",
    "N_ticks = np.sqrt(N0/Nvals)*0.0016\n",
    "ax_top = ax.secondary_xaxis(\"top\")\n",
    "ax_top.set_xticks(N_ticks)\n",
    "ax_top.set_xticklabels([\"$10^4$\",\"\",\"$10^6$\",\"\",\"$10^8$\", \"\", \"$10^{10}$\"],fontsize=\"x-large\")\n",
    "ax_top.set_xlabel(r\"$N_{Hoeff}\\ (\\epsilon/\\epsilon_{acc.}^{chem.})$\",fontsize=\"xx-large\")\n",
    "\n",
    "if True:\n",
    "    axins = ax.inset_axes(\n",
    "        [0.475, 0.62, 0.5, 0.3], ylim=(0.06, 0.09),facecolor=\"white\"#, yticks = [0,0.2,0.4], yticklabels=[\"0\",\"20\",\"40\"]\n",
    "    )\n",
    "    variances = np.zeros_like(betas[::3])\n",
    "    eps = epsilons[0]\n",
    "    for i,beta in enumerate(betas[::3]):\n",
    "        vals = diction[(map_name,beta,eps)]\n",
    "        variances[i] = vals[:,-1].mean()\n",
    "    axins.bar(np.arange(len(variances)),variances,color=colors, zorder=3)\n",
    "    axins.set_ylabel(r\"STD $\\sigma$ [Ha]\",fontsize=\"x-large\")\n",
    "    axins.set_xlabel(\"Inverse temperature $\\\\beta$\",fontsize=\"x-large\")\n",
    "    axins.set_xticks(np.arange(len(variances)),[\"1\", \"10\", \"100\", \"100\"],fontsize=15)\n",
    "    axins.yaxis.set_tick_params(labelsize=15)\n",
    "    axins.grid(axis=\"y\",zorder=1)\n",
    "    #axins.text(1.5,0.15,r\"$\\frac{N_\\mathrm{EBS}}{N_\\mathrm{Hoeff}}$\",ha=\"center\",fontsize=\"xx-large\",bbox=dict(facecolor='white', edgecolor=\"white\", alpha=0.7))\n",
    "    #axins.grid(which=\"minor\",axis=\"y\")\n",
    "\n",
    "plt.show()"
   ]
  },
  {
   "cell_type": "code",
   "execution_count": null,
   "id": "8a96ea2d-87a3-43fc-a46d-e76c34d11d76",
   "metadata": {},
   "outputs": [],
   "source": []
  }
 ],
 "metadata": {
  "kernelspec": {
   "display_name": "Python 3 (ipykernel)",
   "language": "python",
   "name": "python3"
  },
  "language_info": {
   "codemirror_mode": {
    "name": "ipython",
    "version": 3
   },
   "file_extension": ".py",
   "mimetype": "text/x-python",
   "name": "python",
   "nbconvert_exporter": "python",
   "pygments_lexer": "ipython3",
   "version": "3.9.23"
  }
 },
 "nbformat": 4,
 "nbformat_minor": 5
}
